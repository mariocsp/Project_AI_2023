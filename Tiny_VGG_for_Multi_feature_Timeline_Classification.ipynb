{
  "cells": [
    {
      "cell_type": "markdown",
      "metadata": {
        "id": "view-in-github",
        "colab_type": "text"
      },
      "source": [
        "<a href=\"https://colab.research.google.com/github/mariocsp/Project_AI_2023/blob/main/Tiny_VGG_for_Multi_feature_Timeline_Classification.ipynb\" target=\"_parent\"><img src=\"https://colab.research.google.com/assets/colab-badge.svg\" alt=\"Open In Colab\"/></a>"
      ]
    },
    {
      "cell_type": "markdown",
      "source": [
        "# Mengimport pustaka dan fungsi yang dibutuhkan"
      ],
      "metadata": {
        "id": "-bH0DbY9-QN6"
      }
    },
    {
      "cell_type": "code",
      "execution_count": null,
      "metadata": {
        "id": "fn2WfVPxkqvf",
        "colab": {
          "base_uri": "https://localhost:8080/"
        },
        "outputId": "76e33ec0-cacf-4b7b-c82a-85d575835e37"
      },
      "outputs": [
        {
          "output_type": "stream",
          "name": "stdout",
          "text": [
            "Looking in indexes: https://pypi.org/simple, https://us-python.pkg.dev/colab-wheels/public/simple/\n",
            "Requirement already satisfied: torchmetrics in /usr/local/lib/python3.10/dist-packages (0.11.4)\n",
            "Requirement already satisfied: numpy>=1.17.2 in /usr/local/lib/python3.10/dist-packages (from torchmetrics) (1.22.4)\n",
            "Requirement already satisfied: torch>=1.8.1 in /usr/local/lib/python3.10/dist-packages (from torchmetrics) (2.0.1+cu118)\n",
            "Requirement already satisfied: packaging in /usr/local/lib/python3.10/dist-packages (from torchmetrics) (23.1)\n",
            "Requirement already satisfied: filelock in /usr/local/lib/python3.10/dist-packages (from torch>=1.8.1->torchmetrics) (3.12.0)\n",
            "Requirement already satisfied: typing-extensions in /usr/local/lib/python3.10/dist-packages (from torch>=1.8.1->torchmetrics) (4.5.0)\n",
            "Requirement already satisfied: sympy in /usr/local/lib/python3.10/dist-packages (from torch>=1.8.1->torchmetrics) (1.11.1)\n",
            "Requirement already satisfied: networkx in /usr/local/lib/python3.10/dist-packages (from torch>=1.8.1->torchmetrics) (3.1)\n",
            "Requirement already satisfied: jinja2 in /usr/local/lib/python3.10/dist-packages (from torch>=1.8.1->torchmetrics) (3.1.2)\n",
            "Requirement already satisfied: triton==2.0.0 in /usr/local/lib/python3.10/dist-packages (from torch>=1.8.1->torchmetrics) (2.0.0)\n",
            "Requirement already satisfied: cmake in /usr/local/lib/python3.10/dist-packages (from triton==2.0.0->torch>=1.8.1->torchmetrics) (3.25.2)\n",
            "Requirement already satisfied: lit in /usr/local/lib/python3.10/dist-packages (from triton==2.0.0->torch>=1.8.1->torchmetrics) (16.0.5)\n",
            "Requirement already satisfied: MarkupSafe>=2.0 in /usr/local/lib/python3.10/dist-packages (from jinja2->torch>=1.8.1->torchmetrics) (2.1.2)\n",
            "Requirement already satisfied: mpmath>=0.19 in /usr/local/lib/python3.10/dist-packages (from sympy->torch>=1.8.1->torchmetrics) (1.3.0)\n"
          ]
        }
      ],
      "source": [
        "!pip install torchmetrics"
      ]
    },
    {
      "cell_type": "code",
      "source": [
        "import numpy as np\n",
        "import matplotlib.pyplot as plt\n",
        "from sklearn.model_selection import train_test_split\n",
        "import pandas as pd\n",
        "import seaborn as sns\n",
        "\n",
        "import torch\n",
        "from torch import nn\n",
        "from torch.utils.data import DataLoader,Dataset\n",
        "from torchmetrics.functional import accuracy\n",
        "from torch.nn import functional\n",
        "\n",
        "from tqdm.auto import tqdm\n",
        "from timeit import default_timer\n",
        "from torchmetrics import ConfusionMatrix\n",
        "from torchmetrics.classification import BinaryF1Score, BinaryPrecision\n",
        "from mlxtend.plotting import plot_confusion_matrix\n",
        "\n",
        "from sklearn.metrics import classification_report, confusion_matrix\n",
        "\n",
        "device = 'cuda' if torch.cuda.is_available() else \"cpu\""
      ],
      "metadata": {
        "id": "4qPD74POn8gX"
      },
      "execution_count": null,
      "outputs": []
    },
    {
      "cell_type": "markdown",
      "source": [
        "# Load dan pengolahan data"
      ],
      "metadata": {
        "id": "gaorduBJ-gtQ"
      }
    },
    {
      "cell_type": "code",
      "source": [
        "from google.colab import drive\n",
        "drive.mount('/content/drive')\n",
        "path = 'drive/Shareddrives/AI/AI2023/hvcm/CCL'\n",
        "features=['A+IGBT-I', 'A+*IGBT-I', 'B+IGBT-I', 'B+*IGBT-I', 'C+IGBT-I', 'C+*IGBT-I', 'A-FLUX',\n",
        "         'B-FLUX', 'C-FLUX', 'MOD-V', 'MOD-I', 'CB-I', 'CB-V', 'DV/DT']"
      ],
      "metadata": {
        "colab": {
          "base_uri": "https://localhost:8080/"
        },
        "id": "ngwiFZLZoWFc",
        "outputId": "fd97a948-3a9a-403e-9eb5-8bc713829f56"
      },
      "execution_count": null,
      "outputs": [
        {
          "output_type": "stream",
          "name": "stdout",
          "text": [
            "Mounted at /content/drive\n"
          ]
        }
      ]
    },
    {
      "cell_type": "code",
      "source": [
        "Y = np.load(f'{path}_labels.npy', allow_pickle=True)"
      ],
      "metadata": {
        "id": "sUOy-AI0oZNe"
      },
      "execution_count": null,
      "outputs": []
    },
    {
      "cell_type": "code",
      "source": [
        "label_binary = Y[:,1]\n",
        "label_multiclass = Y[:,2]\n",
        "\n",
        "df_label = pd.DataFrame([label_binary,label_multiclass]).transpose()\n",
        "df_label.columns = ['label_binary', 'label_multiclass']\n",
        "\n",
        "label_binary = df_label['label_binary'] == 'Run'\n",
        "label_binary = label_binary.astype(np.int32)\n",
        "\n",
        "df_label['label_binary'] = label_binary\n",
        "df_label.info()"
      ],
      "metadata": {
        "colab": {
          "base_uri": "https://localhost:8080/"
        },
        "id": "aSeMbixqou9j",
        "outputId": "e13eb2ce-b2a1-44c4-a11e-f651f837bca5"
      },
      "execution_count": null,
      "outputs": [
        {
          "output_type": "stream",
          "name": "stdout",
          "text": [
            "<class 'pandas.core.frame.DataFrame'>\n",
            "RangeIndex: 2057 entries, 0 to 2056\n",
            "Data columns (total 2 columns):\n",
            " #   Column            Non-Null Count  Dtype \n",
            "---  ------            --------------  ----- \n",
            " 0   label_binary      2057 non-null   int32 \n",
            " 1   label_multiclass  2057 non-null   object\n",
            "dtypes: int32(1), object(1)\n",
            "memory usage: 24.2+ KB\n"
          ]
        }
      ]
    },
    {
      "cell_type": "code",
      "source": [
        "X = np.load(f'{path}mnorm.npy')"
      ],
      "metadata": {
        "id": "UXiKZQTRP3J9"
      },
      "execution_count": null,
      "outputs": []
    },
    {
      "cell_type": "markdown",
      "source": [
        "### Normalisasi data menggunakan standardcaler"
      ],
      "metadata": {
        "id": "aOQspzdn_gKg"
      }
    },
    {
      "cell_type": "code",
      "source": [
        "\"\"\"\n",
        "from sklearn.preprocessing import StandardScaler,MinMaxScaler\n",
        "\n",
        "scaler = MinMaxScaler((0,255))\n",
        "X_norm = np.zeros(X.shape)\n",
        "\n",
        "for ind_i, i in enumerate(X):\n",
        "  for j in range(14):\n",
        "    feat = i[:,j].reshape(-1,1)\n",
        "    scaler.fit(feat)\n",
        "    trans = scaler.transform(feat)\n",
        "    X_norm[ind_i,:,j] = np.int32(trans.squeeze())\n",
        "\n",
        "np.save(path + 'mnorm.npy',X_norm)\n",
        "\"\"\"\n",
        "print()"
      ],
      "metadata": {
        "id": "qIvXmUhXO1FN",
        "colab": {
          "base_uri": "https://localhost:8080/"
        },
        "outputId": "abebcf2e-39b0-491e-934e-1a3e5d208ad0"
      },
      "execution_count": null,
      "outputs": [
        {
          "output_type": "stream",
          "name": "stdout",
          "text": [
            "\n"
          ]
        }
      ]
    },
    {
      "cell_type": "markdown",
      "source": [
        "### Scale data yang sudah dinormalisasi ke rentang 0-255 untuk gambar\n"
      ],
      "metadata": {
        "id": "K73JbQDU_pCP"
      }
    },
    {
      "cell_type": "code",
      "source": [
        "\"\"\"\n",
        "from sklearn.preprocessing import StandardScaler,MinMaxScaler\n",
        "\n",
        "scaler = StandardScaler()\n",
        "X_norm = np.zeros(X.shape)\n",
        "\n",
        "for ind_i, i in enumerate(X):\n",
        "  for j in range(14):\n",
        "    feat = i[:,j].reshape(-1,1)\n",
        "    scaler.fit(feat)\n",
        "    trans = scaler.transform(feat)\n",
        "    X_norm[ind_i,:,j] = trans.squeeze()\n",
        "\n",
        "np.save(path + 'snorm.npy', X_norm)\n",
        "\"\"\"\n",
        "\n",
        "print()"
      ],
      "metadata": {
        "colab": {
          "base_uri": "https://localhost:8080/"
        },
        "id": "HBNpMbAJKV1q",
        "outputId": "6352a576-e9e8-4f1e-a98f-fed6c7ba1ce0"
      },
      "execution_count": null,
      "outputs": [
        {
          "output_type": "stream",
          "name": "stdout",
          "text": [
            "\n"
          ]
        }
      ]
    },
    {
      "cell_type": "markdown",
      "source": [
        "# Dataloader"
      ],
      "metadata": {
        "id": "sWMFpu_O_1Ns"
      }
    },
    {
      "cell_type": "markdown",
      "source": [
        "### Menyeimbangkan frekuensi data normal dan anomaly"
      ],
      "metadata": {
        "id": "TIYI_rkGAck-"
      }
    },
    {
      "cell_type": "code",
      "source": [
        "np.random.seed(22)\n",
        "Y_bin = label_binary.to_numpy()\n",
        "fault_indices, normal_indices = np.where(Y_bin == 0)[0], np.where(Y_bin == 1)[0]\n",
        "\n",
        "normal_indices = np.random.choice(normal_indices,size = 500)\n",
        "\n",
        "Xnormal, Xanomaly = X[normal_indices,:,:], X[fault_indices,:,:]\n",
        "Ynormal, Yanomaly = Y_bin[normal_indices], Y_bin[fault_indices]"
      ],
      "metadata": {
        "id": "NOzm8ZJlpqfb"
      },
      "execution_count": null,
      "outputs": []
    },
    {
      "cell_type": "code",
      "source": [
        "np.random.seed(22)\n",
        "X_freq = np.concatenate((Xnormal,Xanomaly))\n",
        "Y_freq = np.concatenate((Ynormal,Yanomaly))\n",
        "\n",
        "X_train, X_test, y_train, y_test = train_test_split(X_freq, Y_freq, test_size=0.25, random_state=42)"
      ],
      "metadata": {
        "id": "mfzBWa4yptBe"
      },
      "execution_count": null,
      "outputs": []
    },
    {
      "cell_type": "markdown",
      "source": [
        "### Mengubah data ke dalam format yang dapat dimasukan ke fungsi dataloader pytorch"
      ],
      "metadata": {
        "id": "C_eQZlCSAPUg"
      }
    },
    {
      "cell_type": "code",
      "source": [
        "train_freq = []\n",
        "for seq,label in zip(X_train,y_train):\n",
        "  train_freq.append((np.float32([seq]),np.float32([label])))"
      ],
      "metadata": {
        "id": "1cMpGEOxpx1n"
      },
      "execution_count": null,
      "outputs": []
    },
    {
      "cell_type": "code",
      "source": [
        "test_freq = []\n",
        "for seq,label in zip(X_test,y_test):\n",
        "  test_freq.append((np.float32([seq]),np.float32([label])))\n"
      ],
      "metadata": {
        "id": "7cy0dVbKp0Ox"
      },
      "execution_count": null,
      "outputs": []
    },
    {
      "cell_type": "markdown",
      "source": [
        "Karena\n",
        " model yang akan digunakan adalah model vision maka terdapat 4 dimensi dalam dataloader yaitu [ukuran batch, kanal warna, tinggi gambar, lebar gambar]\n",
        "\n",
        "ukuran batch yang kami gunakan adalah 32, Ukuran kanal yang kami gunakan adalah 1 karena data ini bukan merupakan data gambar melainkan data timeseries. Dimensi tinggi gambar adalah panjang timeseries yaitu 4500. Dimesi lebarnya adalah jumlah fitur yaitu 14. Tiap feature sudah discale ke rentang 0-255. Kedepannya kami ingin bereksperimen memisahkan fitur-fitur ke tiga kanal warna."
      ],
      "metadata": {
        "id": "kF9GquNEA3nP"
      }
    },
    {
      "cell_type": "code",
      "source": [
        "BATCH = 32\n",
        "train_freq_dataloader = DataLoader(train_freq,\n",
        "                        batch_size = BATCH,\n",
        "                        shuffle = True,\n",
        "                        drop_last = True)\n",
        "\n",
        "test_freq_dataloader = DataLoader(test_freq,\n",
        "                             batch_size = BATCH,\n",
        "                             shuffle = False,\n",
        "                              drop_last = True)"
      ],
      "metadata": {
        "id": "-BH4XSc0p2Y5"
      },
      "execution_count": null,
      "outputs": []
    },
    {
      "cell_type": "markdown",
      "source": [
        "# Mendefinisikan fungsi Untuk train dan evaluasi model"
      ],
      "metadata": {
        "id": "4O2nBFIe_-Fe"
      }
    },
    {
      "cell_type": "code",
      "source": [
        "def train_loop(model:torch.nn.Module,\n",
        "               train_dataloader:torch.utils.data.DataLoader,\n",
        "               loss_fn: torch.nn.modules,\n",
        "               optimizer: torch.optim.Optimizer,\n",
        "               device:torch.device = device,\n",
        "               scheduler=None):\n",
        "\n",
        "  loss_train = 0\n",
        "  acc_train = 0\n",
        "  f1_train = 0\n",
        "  prec_train = 0\n",
        "\n",
        "\n",
        "  list_loss_train = []\n",
        "  list_acc_train = []\n",
        "  list_f1_train = []\n",
        "  list_prec_train = []\n",
        "\n",
        "  model.to(device)\n",
        "\n",
        "  model.train()\n",
        "\n",
        "  for batch, (X,y) in enumerate(train_dataloader):\n",
        "\n",
        "    X = X.to(device)\n",
        "    y = y.to(device)\n",
        "\n",
        "    optimizer.zero_grad()\n",
        "\n",
        "    logit = model(X)\n",
        "    pred = torch.round(torch.sigmoid(logit))\n",
        "\n",
        "    loss = loss_fn(logit,y)\n",
        "    loss_train += loss\n",
        "    loss.backward()\n",
        "    optimizer.step()\n",
        "\n",
        "    acc = accuracy(pred,y,task='binary').item()\n",
        "    metric_f1 = BinaryF1Score().to(device)\n",
        "    metric_prec = BinaryPrecision().to(device)\n",
        "    f1 = metric_f1(pred,y).item()\n",
        "    prec = metric_prec(pred,y).item()\n",
        "\n",
        "    acc_train += acc\n",
        "    f1_train += f1\n",
        "    prec_train += prec\n",
        "\n",
        "    list_loss_train.append(loss.item())\n",
        "    list_acc_train.append(acc)\n",
        "    list_f1_train.append(f1)\n",
        "    list_prec_train.append(prec)\n",
        "\n",
        "\n",
        "  if not scheduler == None:\n",
        "    scheduler.step()\n",
        "\n",
        "  pembagi_train = len(train_dataloader)\n",
        "  loss_train = loss_train/pembagi_train\n",
        "  acc_train = acc_train/pembagi_train\n",
        "  f1_train = f1_train/pembagi_train\n",
        "  prec_train = prec_train/pembagi_train\n",
        "\n",
        "\n",
        "  dict_metrics = {\"model\": model.__class__.__name__,\n",
        "                  \"loss\": loss_train.item(),\n",
        "                  \"akurasi\": acc_train,\n",
        "                  \"F1\":f1_train,\n",
        "                  \"presisi\":prec_train}\n",
        "\n",
        "\n",
        "  print(f\"\"\"\n",
        "  __________Train___________\n",
        "  loss: {loss_train.item():.5f}\n",
        "  akurasi: {acc_train:.5f}\n",
        "  F1 :{f1_train:.5f}\n",
        "  presisi:{prec_train:.5f}\n",
        "        \"\"\")\n",
        "\n",
        "  return dict_metrics,list_loss_train,list_acc_train,list_f1_train, list_prec_train"
      ],
      "metadata": {
        "id": "_cpgpE5boznX"
      },
      "execution_count": null,
      "outputs": []
    },
    {
      "cell_type": "code",
      "source": [
        "def model_metrics(model:torch.nn.Module,\n",
        "                  test_dataloader:torch.utils.data.DataLoader,\n",
        "                  loss_fn: torch.nn.modules):\n",
        "\n",
        "  model.to(device)\n",
        "  model.eval()\n",
        "\n",
        "  list_loss_test = []\n",
        "  list_acc_test = []\n",
        "  list_f1_test = []\n",
        "  list_prec_test = []\n",
        "\n",
        "  loss_test = 0\n",
        "  acc_test = 0\n",
        "  f1_test = 0\n",
        "  prec_test = 0\n",
        "\n",
        "  with torch.inference_mode():\n",
        "\n",
        "    for batch, (X,y) in enumerate(test_dataloader):\n",
        "      X = X.to(device)\n",
        "      y = y.to(device)\n",
        "\n",
        "      logit = model(X)\n",
        "      loss = loss_fn(logit,y)\n",
        "\n",
        "      loss_test += loss\n",
        "      pred = torch.round(torch.sigmoid(logit))\n",
        "\n",
        "      acc = accuracy(pred,y,task='binary').item()\n",
        "      metric_f1 = BinaryF1Score().to(device)\n",
        "      metric_prec = BinaryPrecision().to(device)\n",
        "      f1 = metric_f1(pred,y).item()\n",
        "      prec = metric_prec(pred,y).item()\n",
        "\n",
        "      acc_test += acc\n",
        "      f1_test += f1\n",
        "      prec_test += prec\n",
        "\n",
        "      list_loss_test.append(loss.item())\n",
        "      list_acc_test.append(acc)\n",
        "      list_f1_test.append(f1)\n",
        "      list_prec_test.append(prec)\n",
        "\n",
        "    pembagi_test = len(test_dataloader)\n",
        "\n",
        "    loss_test = loss_test/pembagi_test\n",
        "    acc_test = acc_test/pembagi_test\n",
        "    f1_test = f1_test/pembagi_test\n",
        "    prec_test = prec_test/pembagi_test\n",
        "\n",
        "\n",
        "  dict_metrics = {\"model\": model.__class__.__name__,\n",
        "                  \"loss\": loss_test.item(),\n",
        "                  \"akurasi\": acc_test,\n",
        "                  \"F1\" :f1_test,\n",
        "                  'presisi':prec_test}\n",
        "\n",
        "  print(f\"\"\"\n",
        "\n",
        "  _________Test______________\n",
        "  loss: {loss_test.item():.5f}\n",
        "  akurasi: {acc_test:.5f}\n",
        "  F1 :{f1_test:.5f}\n",
        "  presisi:{prec_test:.5f}\n",
        "        \"\"\")\n",
        "\n",
        "  return dict_metrics, list_loss_test, list_acc_test,list_f1_test, list_prec_test"
      ],
      "metadata": {
        "id": "lsckiHwVo7nJ"
      },
      "execution_count": null,
      "outputs": []
    },
    {
      "cell_type": "code",
      "source": [
        "def manual_tensorboard(dict_info:dict):\n",
        "  fig, axs = plt.subplots(3,3)\n",
        "  fig.set_figheight(12)\n",
        "  fig.set_figwidth(12)\n",
        "\n",
        "  for j,i in enumerate(dict_info):\n",
        "    value = dict_info[i]\n",
        "    x = np.linspace(0,100,len(value))\n",
        "    fig.add_subplot(3, 3, j+ 1 )\n",
        "    plt.plot(x,value)\n",
        "    plt.xlabel('Time (s)')\n",
        "    plt.title(i)\n",
        "    plt.xticks([])\n",
        "    plt.yticks([])\n",
        "    plt.ticklabel_format(style='sci', axis='x', scilimits=(0,0))\n",
        "\n",
        "  fig.show()\n",
        "\n",
        "  return True\n"
      ],
      "metadata": {
        "id": "ifvOXb8so-b1"
      },
      "execution_count": null,
      "outputs": []
    },
    {
      "cell_type": "code",
      "source": [
        "def confusion_metric(model, dataloader):\n",
        "  y_preds = []\n",
        "  labels = []\n",
        "  model.to(device)\n",
        "  model.eval()\n",
        "  with torch.inference_mode():\n",
        "    for X, y in tqdm(dataloader, desc=\"Making predictions\"):\n",
        "      X, y = X.to(device), y.to(device)\n",
        "      y_logit = model(X)\n",
        "      y_pred = torch.round(torch.sigmoid(y_logit))\n",
        "      y_preds.append(y_pred.cpu())\n",
        "      labels.append(y.cpu())\n",
        "\n",
        "    y_pred_tensor = torch.cat(y_preds)\n",
        "    labels = torch.cat(labels)\n",
        "\n",
        "    confmat = ConfusionMatrix(num_classes=2, task='binary')\n",
        "    confmat_tensor = confmat(preds=y_pred_tensor,\n",
        "                         target=labels)\n",
        "    # 3. Plot the confusion matrix\n",
        "    fig, ax = plot_confusion_matrix(\n",
        "        conf_mat=confmat_tensor.numpy(), # matplotlib likes working with NumPy\n",
        "        figsize=(10, 7)\n",
        "        );\n",
        "\n",
        "    return True\n"
      ],
      "metadata": {
        "id": "gTfDQEFHpEU3"
      },
      "execution_count": null,
      "outputs": []
    },
    {
      "cell_type": "markdown",
      "source": [
        "# Struktur dan Inisialisasi Model"
      ],
      "metadata": {
        "id": "aEP9BwkvB2C4"
      }
    },
    {
      "cell_type": "markdown",
      "source": [
        "Model yang kami gunakan adalah model tiny VGG dengan ukuran kernel=5 dan jumlah hidden nodes 32. Alasan kami memilih model ini adalah karena model ini merupakan salah satu model vision yang cukup sederhana, menurut kami model ini cukup untuk melakukan klasifikasi pada representasi data timeseries dengan waktu training yang relatif cepat."
      ],
      "metadata": {
        "id": "9dWCU76lCEyZ"
      }
    },
    {
      "cell_type": "code",
      "source": [
        "class ModelVision(nn.Module):\n",
        "  def __init__(self,\n",
        "               input_shape:int,\n",
        "               hidden_nodes:int,\n",
        "               output_shape:int):\n",
        "    super().__init__()\n",
        "\n",
        "    self.block2 = nn.Sequential(nn.Conv2d(in_channels=hidden_nodes,\n",
        "                                          out_channels=hidden_nodes,\n",
        "                                          kernel_size=5,\n",
        "                                          stride=1,\n",
        "                                          padding=1),\n",
        "                                nn.ReLU(),\n",
        "                                nn.MaxPool2d(kernel_size=2,\n",
        "                                              stride=2))\n",
        "\n",
        "    self.block1 = nn.Sequential (nn.Conv2d(in_channels=input_shape,\n",
        "                                          out_channels=hidden_nodes,\n",
        "                                          kernel_size=5,\n",
        "                                          stride=1,\n",
        "                                          padding=1),\n",
        "                                 nn.ReLU(),\n",
        "                                 nn.Conv2d(in_channels=hidden_nodes,\n",
        "                                          out_channels=hidden_nodes,\n",
        "                                          kernel_size=5,\n",
        "                                          stride=1,\n",
        "                                          padding=1),\n",
        "                                 nn.ReLU(),\n",
        "                                 nn.MaxPool2d(kernel_size=2,\n",
        "                                              stride=2))\n",
        "\n",
        "\n",
        "    self.classifier = nn.Sequential(nn.Flatten(),\n",
        "                                    nn.Linear(in_features=hidden_nodes*1123,\n",
        "                                              out_features=output_shape))\n",
        "  def forward(self,x):\n",
        "    x = self.block1(x)\n",
        "    x = self.block2(x)\n",
        "    x = self.classifier(x)\n",
        "    return x"
      ],
      "metadata": {
        "id": "MlDekJIvp6nJ"
      },
      "execution_count": null,
      "outputs": []
    },
    {
      "cell_type": "code",
      "source": [
        "torch.manual_seed(22)\n",
        "model_vis = ModelVision(1,32,1)\n",
        "print(model_vis)"
      ],
      "metadata": {
        "colab": {
          "base_uri": "https://localhost:8080/"
        },
        "id": "N8RUolQwrd2T",
        "outputId": "853d92ab-3ee7-474a-f28c-f543084c3961"
      },
      "execution_count": null,
      "outputs": [
        {
          "output_type": "stream",
          "name": "stdout",
          "text": [
            "ModelVision(\n",
            "  (block2): Sequential(\n",
            "    (0): Conv2d(64, 64, kernel_size=(5, 5), stride=(1, 1), padding=(1, 1))\n",
            "    (1): ReLU()\n",
            "    (2): MaxPool2d(kernel_size=2, stride=2, padding=0, dilation=1, ceil_mode=False)\n",
            "  )\n",
            "  (block1): Sequential(\n",
            "    (0): Conv2d(1, 64, kernel_size=(5, 5), stride=(1, 1), padding=(1, 1))\n",
            "    (1): ReLU()\n",
            "    (2): Conv2d(64, 64, kernel_size=(5, 5), stride=(1, 1), padding=(1, 1))\n",
            "    (3): ReLU()\n",
            "    (4): MaxPool2d(kernel_size=2, stride=2, padding=0, dilation=1, ceil_mode=False)\n",
            "  )\n",
            "  (classifier): Sequential(\n",
            "    (0): Flatten(start_dim=1, end_dim=-1)\n",
            "    (1): Linear(in_features=71872, out_features=1, bias=True)\n",
            "  )\n",
            ")\n"
          ]
        }
      ]
    },
    {
      "cell_type": "markdown",
      "source": [
        "# Training Model"
      ],
      "metadata": {
        "id": "GEeEy8UgCBJh"
      }
    },
    {
      "cell_type": "code",
      "source": [
        "loss_fn = nn.BCEWithLogitsLoss()\n",
        "optimizer = torch.optim.Adam(params = model_vis.parameters(),lr = 0.0000075)#,weight_decay = 0.0001)\n",
        "scheduler = torch.optim.lr_scheduler.LinearLR(optimizer,\n",
        "                                               start_factor=0.3333333333333333,\n",
        "                                               end_factor=1.0, total_iters=25,\n",
        "                                               last_epoch=- 1, verbose=True)\n",
        "\n",
        "print(type(loss_fn))\n",
        "print(type(optimizer))\n",
        "print(type(scheduler))"
      ],
      "metadata": {
        "colab": {
          "base_uri": "https://localhost:8080/"
        },
        "id": "IKzg8pnW-G3j",
        "outputId": "0d48b165-03fb-45ef-8eef-63145f50edf6"
      },
      "execution_count": null,
      "outputs": [
        {
          "output_type": "stream",
          "name": "stdout",
          "text": [
            "Adjusting learning rate of group 0 to 2.5000e-06.\n",
            "<class 'torch.nn.modules.loss.BCEWithLogitsLoss'>\n",
            "<class 'torch.optim.adam.Adam'>\n",
            "<class 'torch.optim.lr_scheduler.LinearLR'>\n"
          ]
        }
      ]
    },
    {
      "cell_type": "code",
      "source": [
        "epochs = 130\n",
        "\n",
        "dict_info = {'loss_train':[],\n",
        "             'acc_train':[],\n",
        "             'F1_train':[],\n",
        "             'prec_train':[],\n",
        "             'loss_test':[],\n",
        "             'acc_test':[],\n",
        "             'F1_test':[],\n",
        "             'prec_test':[]}\n",
        "\n",
        "for epoch in range(epochs+1):\n",
        "  print(f\"epoch--{epoch}\\n________\")\n",
        "  log_train,l,a,F1,p = train_loop(model_vis,\n",
        "                         train_freq_dataloader,\n",
        "                         loss_fn,\n",
        "                         optimizer,\n",
        "                         device,\n",
        "                         scheduler)\n",
        "\n",
        "  dict_info['loss_train'] = dict_info['loss_train'] + l\n",
        "  dict_info['acc_train'] = dict_info['acc_train'] + a\n",
        "  dict_info['F1_train'] = dict_info['F1_train'] + F1\n",
        "  dict_info['prec_train'] = dict_info['prec_train'] + p\n",
        "\n",
        "  if epoch%(epochs//10) == 0:\n",
        "    log_test,lt,at,F1t,pt = model_metrics(model_vis,test_freq_dataloader,loss_fn)\n",
        "\n",
        "    dict_info['loss_test'] = dict_info['loss_test'] + lt\n",
        "    dict_info['acc_test'] = dict_info['acc_test'] + at\n",
        "    dict_info['F1_test'] = dict_info['F1_test'] + F1t\n",
        "    dict_info['prec_test'] = dict_info['prec_test'] + pt\n",
        "\n"
      ],
      "metadata": {
        "id": "JMdJYoKC_ZMK"
      },
      "execution_count": null,
      "outputs": []
    },
    {
      "cell_type": "markdown",
      "source": [
        "# Evaluasi Model"
      ],
      "metadata": {
        "id": "ygVadGuWCq9c"
      }
    },
    {
      "cell_type": "code",
      "source": [
        "\n",
        "torch.save(model_vis.state_dict(),path + \"vis_uas.pth\")\n",
        "\n",
        "print('run only when you get good result')"
      ],
      "metadata": {
        "colab": {
          "base_uri": "https://localhost:8080/"
        },
        "id": "rSUrPecwC7ft",
        "outputId": "95ada32d-b0f8-4502-ab4b-e17cf239ca16"
      },
      "execution_count": null,
      "outputs": [
        {
          "output_type": "stream",
          "name": "stdout",
          "text": [
            "run only when you get good result\n"
          ]
        }
      ]
    },
    {
      "cell_type": "code",
      "source": [
        "model_vis_inf = ModelVision(1,64,1)\n",
        "\n",
        "state = torch.load(path + \"vis_uas.pth\")\n",
        "model_vis_inf.load_state_dict(state)"
      ],
      "metadata": {
        "colab": {
          "base_uri": "https://localhost:8080/"
        },
        "id": "28dxV02HDmiT",
        "outputId": "f31cdbca-3b0e-44c6-e05b-0cb9f07764cb"
      },
      "execution_count": null,
      "outputs": [
        {
          "output_type": "execute_result",
          "data": {
            "text/plain": [
              "<All keys matched successfully>"
            ]
          },
          "metadata": {},
          "execution_count": 42
        }
      ]
    },
    {
      "cell_type": "code",
      "source": [
        "confusion_metric(model_vis_inf,test_freq_dataloader)"
      ],
      "metadata": {
        "colab": {
          "base_uri": "https://localhost:8080/",
          "height": 669,
          "referenced_widgets": [
            "38ade3a1f02442c6957ae5dc54352521",
            "81b9cdf4e6774fa7a874e7ef43a3ef0b",
            "d3bba0a3d6854d8b8563df32632ebf5f",
            "a193dbdfd71a403fba62dadb24304ed2",
            "6896da0d672f4819b923826fa6761ebb",
            "bbbad78a898d48418b308b4646b5bca8",
            "8fc489b52533423194cd571fe43d2b26",
            "f99beceee1ee4fe79f47a7294a68516f",
            "51a419dc2e664a5f9ad660dc894a297f",
            "bb897073d405458aa61fb6aceadcffd3",
            "35a5161e33b94b658e70cf3f882f508e"
          ]
        },
        "id": "XQNYOUUaEXFU",
        "outputId": "c5564b1d-f5a6-415b-c1b2-9639a1d23e90"
      },
      "execution_count": null,
      "outputs": [
        {
          "output_type": "display_data",
          "data": {
            "text/plain": [
              "Making predictions:   0%|          | 0/6 [00:00<?, ?it/s]"
            ],
            "application/vnd.jupyter.widget-view+json": {
              "version_major": 2,
              "version_minor": 0,
              "model_id": "38ade3a1f02442c6957ae5dc54352521"
            }
          },
          "metadata": {}
        },
        {
          "output_type": "execute_result",
          "data": {
            "text/plain": [
              "True"
            ]
          },
          "metadata": {},
          "execution_count": 43
        },
        {
          "output_type": "display_data",
          "data": {
            "text/plain": [
              "<Figure size 1000x700 with 1 Axes>"
            ],
            "image/png": "[encoded data removed]"
          },
          "metadata": {}
        }
      ]
    },
    {
      "cell_type": "code",
      "source": [
        "confusion_metric(model_vis_inf,train_freq_dataloader)"
      ],
      "metadata": {
        "colab": {
          "base_uri": "https://localhost:8080/",
          "height": 669,
          "referenced_widgets": [
            "4d651405134f43808fecc34c2c21951d",
            "d783c052edc749f9b38bf73e36c6d537",
            "55f521c8dbf44f03ad0ca375064018a9",
            "f7af50ae27d647e38c0f17afc93d503d",
            "da607fd923d04dcb8a3a676b126941ba",
            "d87c4e39714e4c55aae418a9a7b095f3",
            "f9ffe13a16fb4db3a63a70c192584647",
            "69d0b9f55a1349eba4bac34cc2c9ad66",
            "b8d11483e49a4f7fa3d30935a0ef97c7",
            "2343a93370b04af7a743d73a117e5818",
            "d9ebd64d98c7412d90a628da95b57c9a"
          ]
        },
        "id": "Q-ILL__bSK1E",
        "outputId": "6b868527-8243-45f2-dcf3-8bb43dd7a36e"
      },
      "execution_count": null,
      "outputs": [
        {
          "output_type": "display_data",
          "data": {
            "text/plain": [
              "Making predictions:   0%|          | 0/18 [00:00<?, ?it/s]"
            ],
            "application/vnd.jupyter.widget-view+json": {
              "version_major": 2,
              "version_minor": 0,
              "model_id": "4d651405134f43808fecc34c2c21951d"
            }
          },
          "metadata": {}
        },
        {
          "output_type": "execute_result",
          "data": {
            "text/plain": [
              "True"
            ]
          },
          "metadata": {},
          "execution_count": 44
        },
        {
          "output_type": "display_data",
          "data": {
            "text/plain": [
              "<Figure size 1000x700 with 1 Axes>"
            ],
            "image/png": "[encoded data removed]"
          },
          "metadata": {}
        }
      ]
    },
    {
      "cell_type": "code",
      "source": [
        "manual_tensorboard(dict_info)"
      ],
      "metadata": {
        "id": "y5NIWKkPSOfv"
      },
      "execution_count": null,
      "outputs": []
    },
    {
      "cell_type": "code",
      "source": [
        "log_train"
      ],
      "metadata": {
        "colab": {
          "base_uri": "https://localhost:8080/"
        },
        "id": "TuutvZ97SaLL",
        "outputId": "fdbedc18-8933-4b46-87c4-8b3c93fd22b5"
      },
      "execution_count": null,
      "outputs": [
        {
          "output_type": "execute_result",
          "data": {
            "text/plain": [
              "{'model': 'ModelVision',\n",
              " 'loss': 0.21625269949436188,\n",
              " 'akurasi': 0.8940972222222222,\n",
              " 'F1': 0.9086135493384467,\n",
              " 'presisi': 0.933796250157886}"
            ]
          },
          "metadata": {},
          "execution_count": 47
        }
      ]
    },
    {
      "cell_type": "code",
      "source": [
        "log_test"
      ],
      "metadata": {
        "colab": {
          "base_uri": "https://localhost:8080/"
        },
        "id": "H9f8RvpWWmom",
        "outputId": "8ef1c54c-906f-4617-f7f3-735a17cddfd2"
      },
      "execution_count": null,
      "outputs": [
        {
          "output_type": "execute_result",
          "data": {
            "text/plain": [
              "{'model': 'ModelVision',\n",
              " 'loss': 0.3205312490463257,\n",
              " 'akurasi': 0.8385416666666666,\n",
              " 'F1': 0.8612178762753805,\n",
              " 'presisi': 0.8843253950277964}"
            ]
          },
          "metadata": {},
          "execution_count": 48
        }
      ]
    },
    {
      "cell_type": "code",
      "source": [],
      "metadata": {
        "id": "sjJRp5H26M2L"
      },
      "execution_count": null,
      "outputs": []
    }
  ],
  "metadata": {
    "colab": {
      "provenance": [],
      "gpuType": "T4",
      "include_colab_link": true
    },
    "kernelspec": {
      "display_name": "Python 3",
      "name": "python3"
    },
    "language_info": {
      "name": "python"
    },
    "accelerator": "GPU",
    "widgets": {
      "application/vnd.jupyter.widget-state+json": {
        "38ade3a1f02442c6957ae5dc54352521": {
          "model_module": "@jupyter-widgets/controls",
          "model_name": "HBoxModel",
          "model_module_version": "1.5.0",
          "state": {
            "_dom_classes": [],
            "_model_module": "@jupyter-widgets/controls",
            "_model_module_version": "1.5.0",
            "_model_name": "HBoxModel",
            "_view_count": null,
            "_view_module": "@jupyter-widgets/controls",
            "_view_module_version": "1.5.0",
            "_view_name": "HBoxView",
            "box_style": "",
            "children": [
              "IPY_MODEL_81b9cdf4e6774fa7a874e7ef43a3ef0b",
              "IPY_MODEL_d3bba0a3d6854d8b8563df32632ebf5f",
              "IPY_MODEL_a193dbdfd71a403fba62dadb24304ed2"
            ],
            "layout": "IPY_MODEL_6896da0d672f4819b923826fa6761ebb"
          }
        },
        "81b9cdf4e6774fa7a874e7ef43a3ef0b": {
          "model_module": "@jupyter-widgets/controls",
          "model_name": "HTMLModel",
          "model_module_version": "1.5.0",
          "state": {
            "_dom_classes": [],
            "_model_module": "@jupyter-widgets/controls",
            "_model_module_version": "1.5.0",
            "_model_name": "HTMLModel",
            "_view_count": null,
            "_view_module": "@jupyter-widgets/controls",
            "_view_module_version": "1.5.0",
            "_view_name": "HTMLView",
            "description": "",
            "description_tooltip": null,
            "layout": "IPY_MODEL_bbbad78a898d48418b308b4646b5bca8",
            "placeholder": "​",
            "style": "IPY_MODEL_8fc489b52533423194cd571fe43d2b26",
            "value": "Making predictions: 100%"
          }
        },
        "d3bba0a3d6854d8b8563df32632ebf5f": {
          "model_module": "@jupyter-widgets/controls",
          "model_name": "FloatProgressModel",
          "model_module_version": "1.5.0",
          "state": {
            "_dom_classes": [],
            "_model_module": "@jupyter-widgets/controls",
            "_model_module_version": "1.5.0",
            "_model_name": "FloatProgressModel",
            "_view_count": null,
            "_view_module": "@jupyter-widgets/controls",
            "_view_module_version": "1.5.0",
            "_view_name": "ProgressView",
            "bar_style": "success",
            "description": "",
            "description_tooltip": null,
            "layout": "IPY_MODEL_f99beceee1ee4fe79f47a7294a68516f",
            "max": 6,
            "min": 0,
            "orientation": "horizontal",
            "style": "IPY_MODEL_51a419dc2e664a5f9ad660dc894a297f",
            "value": 6
          }
        },
        "a193dbdfd71a403fba62dadb24304ed2": {
          "model_module": "@jupyter-widgets/controls",
          "model_name": "HTMLModel",
          "model_module_version": "1.5.0",
          "state": {
            "_dom_classes": [],
            "_model_module": "@jupyter-widgets/controls",
            "_model_module_version": "1.5.0",
            "_model_name": "HTMLModel",
            "_view_count": null,
            "_view_module": "@jupyter-widgets/controls",
            "_view_module_version": "1.5.0",
            "_view_name": "HTMLView",
            "description": "",
            "description_tooltip": null,
            "layout": "IPY_MODEL_bb897073d405458aa61fb6aceadcffd3",
            "placeholder": "​",
            "style": "IPY_MODEL_35a5161e33b94b658e70cf3f882f508e",
            "value": " 6/6 [00:00&lt;00:00,  9.65it/s]"
          }
        },
        "6896da0d672f4819b923826fa6761ebb": {
          "model_module": "@jupyter-widgets/base",
          "model_name": "LayoutModel",
          "model_module_version": "1.2.0",
          "state": {
            "_model_module": "@jupyter-widgets/base",
            "_model_module_version": "1.2.0",
            "_model_name": "LayoutModel",
            "_view_count": null,
            "_view_module": "@jupyter-widgets/base",
            "_view_module_version": "1.2.0",
            "_view_name": "LayoutView",
            "align_content": null,
            "align_items": null,
            "align_self": null,
            "border": null,
            "bottom": null,
            "display": null,
            "flex": null,
            "flex_flow": null,
            "grid_area": null,
            "grid_auto_columns": null,
            "grid_auto_flow": null,
            "grid_auto_rows": null,
            "grid_column": null,
            "grid_gap": null,
            "grid_row": null,
            "grid_template_areas": null,
            "grid_template_columns": null,
            "grid_template_rows": null,
            "height": null,
            "justify_content": null,
            "justify_items": null,
            "left": null,
            "margin": null,
            "max_height": null,
            "max_width": null,
            "min_height": null,
            "min_width": null,
            "object_fit": null,
            "object_position": null,
            "order": null,
            "overflow": null,
            "overflow_x": null,
            "overflow_y": null,
            "padding": null,
            "right": null,
            "top": null,
            "visibility": null,
            "width": null
          }
        },
        "bbbad78a898d48418b308b4646b5bca8": {
          "model_module": "@jupyter-widgets/base",
          "model_name": "LayoutModel",
          "model_module_version": "1.2.0",
          "state": {
            "_model_module": "@jupyter-widgets/base",
            "_model_module_version": "1.2.0",
            "_model_name": "LayoutModel",
            "_view_count": null,
            "_view_module": "@jupyter-widgets/base",
            "_view_module_version": "1.2.0",
            "_view_name": "LayoutView",
            "align_content": null,
            "align_items": null,
            "align_self": null,
            "border": null,
            "bottom": null,
            "display": null,
            "flex": null,
            "flex_flow": null,
            "grid_area": null,
            "grid_auto_columns": null,
            "grid_auto_flow": null,
            "grid_auto_rows": null,
            "grid_column": null,
            "grid_gap": null,
            "grid_row": null,
            "grid_template_areas": null,
            "grid_template_columns": null,
            "grid_template_rows": null,
            "height": null,
            "justify_content": null,
            "justify_items": null,
            "left": null,
            "margin": null,
            "max_height": null,
            "max_width": null,
            "min_height": null,
            "min_width": null,
            "object_fit": null,
            "object_position": null,
            "order": null,
            "overflow": null,
            "overflow_x": null,
            "overflow_y": null,
            "padding": null,
            "right": null,
            "top": null,
            "visibility": null,
            "width": null
          }
        },
        "8fc489b52533423194cd571fe43d2b26": {
          "model_module": "@jupyter-widgets/controls",
          "model_name": "DescriptionStyleModel",
          "model_module_version": "1.5.0",
          "state": {
            "_model_module": "@jupyter-widgets/controls",
            "_model_module_version": "1.5.0",
            "_model_name": "DescriptionStyleModel",
            "_view_count": null,
            "_view_module": "@jupyter-widgets/base",
            "_view_module_version": "1.2.0",
            "_view_name": "StyleView",
            "description_width": ""
          }
        },
        "f99beceee1ee4fe79f47a7294a68516f": {
          "model_module": "@jupyter-widgets/base",
          "model_name": "LayoutModel",
          "model_module_version": "1.2.0",
          "state": {
            "_model_module": "@jupyter-widgets/base",
            "_model_module_version": "1.2.0",
            "_model_name": "LayoutModel",
            "_view_count": null,
            "_view_module": "@jupyter-widgets/base",
            "_view_module_version": "1.2.0",
            "_view_name": "LayoutView",
            "align_content": null,
            "align_items": null,
            "align_self": null,
            "border": null,
            "bottom": null,
            "display": null,
            "flex": null,
            "flex_flow": null,
            "grid_area": null,
            "grid_auto_columns": null,
            "grid_auto_flow": null,
            "grid_auto_rows": null,
            "grid_column": null,
            "grid_gap": null,
            "grid_row": null,
            "grid_template_areas": null,
            "grid_template_columns": null,
            "grid_template_rows": null,
            "height": null,
            "justify_content": null,
            "justify_items": null,
            "left": null,
            "margin": null,
            "max_height": null,
            "max_width": null,
            "min_height": null,
            "min_width": null,
            "object_fit": null,
            "object_position": null,
            "order": null,
            "overflow": null,
            "overflow_x": null,
            "overflow_y": null,
            "padding": null,
            "right": null,
            "top": null,
            "visibility": null,
            "width": null
          }
        },
        "51a419dc2e664a5f9ad660dc894a297f": {
          "model_module": "@jupyter-widgets/controls",
          "model_name": "ProgressStyleModel",
          "model_module_version": "1.5.0",
          "state": {
            "_model_module": "@jupyter-widgets/controls",
            "_model_module_version": "1.5.0",
            "_model_name": "ProgressStyleModel",
            "_view_count": null,
            "_view_module": "@jupyter-widgets/base",
            "_view_module_version": "1.2.0",
            "_view_name": "StyleView",
            "bar_color": null,
            "description_width": ""
          }
        },
        "bb897073d405458aa61fb6aceadcffd3": {
          "model_module": "@jupyter-widgets/base",
          "model_name": "LayoutModel",
          "model_module_version": "1.2.0",
          "state": {
            "_model_module": "@jupyter-widgets/base",
            "_model_module_version": "1.2.0",
            "_model_name": "LayoutModel",
            "_view_count": null,
            "_view_module": "@jupyter-widgets/base",
            "_view_module_version": "1.2.0",
            "_view_name": "LayoutView",
            "align_content": null,
            "align_items": null,
            "align_self": null,
            "border": null,
            "bottom": null,
            "display": null,
            "flex": null,
            "flex_flow": null,
            "grid_area": null,
            "grid_auto_columns": null,
            "grid_auto_flow": null,
            "grid_auto_rows": null,
            "grid_column": null,
            "grid_gap": null,
            "grid_row": null,
            "grid_template_areas": null,
            "grid_template_columns": null,
            "grid_template_rows": null,
            "height": null,
            "justify_content": null,
            "justify_items": null,
            "left": null,
            "margin": null,
            "max_height": null,
            "max_width": null,
            "min_height": null,
            "min_width": null,
            "object_fit": null,
            "object_position": null,
            "order": null,
            "overflow": null,
            "overflow_x": null,
            "overflow_y": null,
            "padding": null,
            "right": null,
            "top": null,
            "visibility": null,
            "width": null
          }
        },
        "35a5161e33b94b658e70cf3f882f508e": {
          "model_module": "@jupyter-widgets/controls",
          "model_name": "DescriptionStyleModel",
          "model_module_version": "1.5.0",
          "state": {
            "_model_module": "@jupyter-widgets/controls",
            "_model_module_version": "1.5.0",
            "_model_name": "DescriptionStyleModel",
            "_view_count": null,
            "_view_module": "@jupyter-widgets/base",
            "_view_module_version": "1.2.0",
            "_view_name": "StyleView",
            "description_width": ""
          }
        },
        "4d651405134f43808fecc34c2c21951d": {
          "model_module": "@jupyter-widgets/controls",
          "model_name": "HBoxModel",
          "model_module_version": "1.5.0",
          "state": {
            "_dom_classes": [],
            "_model_module": "@jupyter-widgets/controls",
            "_model_module_version": "1.5.0",
            "_model_name": "HBoxModel",
            "_view_count": null,
            "_view_module": "@jupyter-widgets/controls",
            "_view_module_version": "1.5.0",
            "_view_name": "HBoxView",
            "box_style": "",
            "children": [
              "IPY_MODEL_d783c052edc749f9b38bf73e36c6d537",
              "IPY_MODEL_55f521c8dbf44f03ad0ca375064018a9",
              "IPY_MODEL_f7af50ae27d647e38c0f17afc93d503d"
            ],
            "layout": "IPY_MODEL_da607fd923d04dcb8a3a676b126941ba"
          }
        },
        "d783c052edc749f9b38bf73e36c6d537": {
          "model_module": "@jupyter-widgets/controls",
          "model_name": "HTMLModel",
          "model_module_version": "1.5.0",
          "state": {
            "_dom_classes": [],
            "_model_module": "@jupyter-widgets/controls",
            "_model_module_version": "1.5.0",
            "_model_name": "HTMLModel",
            "_view_count": null,
            "_view_module": "@jupyter-widgets/controls",
            "_view_module_version": "1.5.0",
            "_view_name": "HTMLView",
            "description": "",
            "description_tooltip": null,
            "layout": "IPY_MODEL_d87c4e39714e4c55aae418a9a7b095f3",
            "placeholder": "​",
            "style": "IPY_MODEL_f9ffe13a16fb4db3a63a70c192584647",
            "value": "Making predictions: 100%"
          }
        },
        "55f521c8dbf44f03ad0ca375064018a9": {
          "model_module": "@jupyter-widgets/controls",
          "model_name": "FloatProgressModel",
          "model_module_version": "1.5.0",
          "state": {
            "_dom_classes": [],
            "_model_module": "@jupyter-widgets/controls",
            "_model_module_version": "1.5.0",
            "_model_name": "FloatProgressModel",
            "_view_count": null,
            "_view_module": "@jupyter-widgets/controls",
            "_view_module_version": "1.5.0",
            "_view_name": "ProgressView",
            "bar_style": "success",
            "description": "",
            "description_tooltip": null,
            "layout": "IPY_MODEL_69d0b9f55a1349eba4bac34cc2c9ad66",
            "max": 18,
            "min": 0,
            "orientation": "horizontal",
            "style": "IPY_MODEL_b8d11483e49a4f7fa3d30935a0ef97c7",
            "value": 18
          }
        },
        "f7af50ae27d647e38c0f17afc93d503d": {
          "model_module": "@jupyter-widgets/controls",
          "model_name": "HTMLModel",
          "model_module_version": "1.5.0",
          "state": {
            "_dom_classes": [],
            "_model_module": "@jupyter-widgets/controls",
            "_model_module_version": "1.5.0",
            "_model_name": "HTMLModel",
            "_view_count": null,
            "_view_module": "@jupyter-widgets/controls",
            "_view_module_version": "1.5.0",
            "_view_name": "HTMLView",
            "description": "",
            "description_tooltip": null,
            "layout": "IPY_MODEL_2343a93370b04af7a743d73a117e5818",
            "placeholder": "​",
            "style": "IPY_MODEL_d9ebd64d98c7412d90a628da95b57c9a",
            "value": " 18/18 [00:01&lt;00:00, 10.16it/s]"
          }
        },
        "da607fd923d04dcb8a3a676b126941ba": {
          "model_module": "@jupyter-widgets/base",
          "model_name": "LayoutModel",
          "model_module_version": "1.2.0",
          "state": {
            "_model_module": "@jupyter-widgets/base",
            "_model_module_version": "1.2.0",
            "_model_name": "LayoutModel",
            "_view_count": null,
            "_view_module": "@jupyter-widgets/base",
            "_view_module_version": "1.2.0",
            "_view_name": "LayoutView",
            "align_content": null,
            "align_items": null,
            "align_self": null,
            "border": null,
            "bottom": null,
            "display": null,
            "flex": null,
            "flex_flow": null,
            "grid_area": null,
            "grid_auto_columns": null,
            "grid_auto_flow": null,
            "grid_auto_rows": null,
            "grid_column": null,
            "grid_gap": null,
            "grid_row": null,
            "grid_template_areas": null,
            "grid_template_columns": null,
            "grid_template_rows": null,
            "height": null,
            "justify_content": null,
            "justify_items": null,
            "left": null,
            "margin": null,
            "max_height": null,
            "max_width": null,
            "min_height": null,
            "min_width": null,
            "object_fit": null,
            "object_position": null,
            "order": null,
            "overflow": null,
            "overflow_x": null,
            "overflow_y": null,
            "padding": null,
            "right": null,
            "top": null,
            "visibility": null,
            "width": null
          }
        },
        "d87c4e39714e4c55aae418a9a7b095f3": {
          "model_module": "@jupyter-widgets/base",
          "model_name": "LayoutModel",
          "model_module_version": "1.2.0",
          "state": {
            "_model_module": "@jupyter-widgets/base",
            "_model_module_version": "1.2.0",
            "_model_name": "LayoutModel",
            "_view_count": null,
            "_view_module": "@jupyter-widgets/base",
            "_view_module_version": "1.2.0",
            "_view_name": "LayoutView",
            "align_content": null,
            "align_items": null,
            "align_self": null,
            "border": null,
            "bottom": null,
            "display": null,
            "flex": null,
            "flex_flow": null,
            "grid_area": null,
            "grid_auto_columns": null,
            "grid_auto_flow": null,
            "grid_auto_rows": null,
            "grid_column": null,
            "grid_gap": null,
            "grid_row": null,
            "grid_template_areas": null,
            "grid_template_columns": null,
            "grid_template_rows": null,
            "height": null,
            "justify_content": null,
            "justify_items": null,
            "left": null,
            "margin": null,
            "max_height": null,
            "max_width": null,
            "min_height": null,
            "min_width": null,
            "object_fit": null,
            "object_position": null,
            "order": null,
            "overflow": null,
            "overflow_x": null,
            "overflow_y": null,
            "padding": null,
            "right": null,
            "top": null,
            "visibility": null,
            "width": null
          }
        },
        "f9ffe13a16fb4db3a63a70c192584647": {
          "model_module": "@jupyter-widgets/controls",
          "model_name": "DescriptionStyleModel",
          "model_module_version": "1.5.0",
          "state": {
            "_model_module": "@jupyter-widgets/controls",
            "_model_module_version": "1.5.0",
            "_model_name": "DescriptionStyleModel",
            "_view_count": null,
            "_view_module": "@jupyter-widgets/base",
            "_view_module_version": "1.2.0",
            "_view_name": "StyleView",
            "description_width": ""
          }
        },
        "69d0b9f55a1349eba4bac34cc2c9ad66": {
          "model_module": "@jupyter-widgets/base",
          "model_name": "LayoutModel",
          "model_module_version": "1.2.0",
          "state": {
            "_model_module": "@jupyter-widgets/base",
            "_model_module_version": "1.2.0",
            "_model_name": "LayoutModel",
            "_view_count": null,
            "_view_module": "@jupyter-widgets/base",
            "_view_module_version": "1.2.0",
            "_view_name": "LayoutView",
            "align_content": null,
            "align_items": null,
            "align_self": null,
            "border": null,
            "bottom": null,
            "display": null,
            "flex": null,
            "flex_flow": null,
            "grid_area": null,
            "grid_auto_columns": null,
            "grid_auto_flow": null,
            "grid_auto_rows": null,
            "grid_column": null,
            "grid_gap": null,
            "grid_row": null,
            "grid_template_areas": null,
            "grid_template_columns": null,
            "grid_template_rows": null,
            "height": null,
            "justify_content": null,
            "justify_items": null,
            "left": null,
            "margin": null,
            "max_height": null,
            "max_width": null,
            "min_height": null,
            "min_width": null,
            "object_fit": null,
            "object_position": null,
            "order": null,
            "overflow": null,
            "overflow_x": null,
            "overflow_y": null,
            "padding": null,
            "right": null,
            "top": null,
            "visibility": null,
            "width": null
          }
        },
        "b8d11483e49a4f7fa3d30935a0ef97c7": {
          "model_module": "@jupyter-widgets/controls",
          "model_name": "ProgressStyleModel",
          "model_module_version": "1.5.0",
          "state": {
            "_model_module": "@jupyter-widgets/controls",
            "_model_module_version": "1.5.0",
            "_model_name": "ProgressStyleModel",
            "_view_count": null,
            "_view_module": "@jupyter-widgets/base",
            "_view_module_version": "1.2.0",
            "_view_name": "StyleView",
            "bar_color": null,
            "description_width": ""
          }
        },
        "2343a93370b04af7a743d73a117e5818": {
          "model_module": "@jupyter-widgets/base",
          "model_name": "LayoutModel",
          "model_module_version": "1.2.0",
          "state": {
            "_model_module": "@jupyter-widgets/base",
            "_model_module_version": "1.2.0",
            "_model_name": "LayoutModel",
            "_view_count": null,
            "_view_module": "@jupyter-widgets/base",
            "_view_module_version": "1.2.0",
            "_view_name": "LayoutView",
            "align_content": null,
            "align_items": null,
            "align_self": null,
            "border": null,
            "bottom": null,
            "display": null,
            "flex": null,
            "flex_flow": null,
            "grid_area": null,
            "grid_auto_columns": null,
            "grid_auto_flow": null,
            "grid_auto_rows": null,
            "grid_column": null,
            "grid_gap": null,
            "grid_row": null,
            "grid_template_areas": null,
            "grid_template_columns": null,
            "grid_template_rows": null,
            "height": null,
            "justify_content": null,
            "justify_items": null,
            "left": null,
            "margin": null,
            "max_height": null,
            "max_width": null,
            "min_height": null,
            "min_width": null,
            "object_fit": null,
            "object_position": null,
            "order": null,
            "overflow": null,
            "overflow_x": null,
            "overflow_y": null,
            "padding": null,
            "right": null,
            "top": null,
            "visibility": null,
            "width": null
          }
        },
        "d9ebd64d98c7412d90a628da95b57c9a": {
          "model_module": "@jupyter-widgets/controls",
          "model_name": "DescriptionStyleModel",
          "model_module_version": "1.5.0",
          "state": {
            "_model_module": "@jupyter-widgets/controls",
            "_model_module_version": "1.5.0",
            "_model_name": "DescriptionStyleModel",
            "_view_count": null,
            "_view_module": "@jupyter-widgets/base",
            "_view_module_version": "1.2.0",
            "_view_name": "StyleView",
            "description_width": ""
          }
        }
      }
    }
  },
  "nbformat": 4,
  "nbformat_minor": 0
}